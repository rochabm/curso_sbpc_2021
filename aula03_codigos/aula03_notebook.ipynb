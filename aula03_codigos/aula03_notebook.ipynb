{
 "cells": [
  {
   "cell_type": "markdown",
   "metadata": {
    "colab_type": "text",
    "id": "JDbZy9ovyHm4"
   },
   "source": [
    "![title](../logo.png)"
   ]
  },
  {
   "cell_type": "markdown",
   "metadata": {},
   "source": [
    "# WMC-03: MODELAGEM MATEMÁTICA E COMPUTACIONAL NA COVID-19\n",
    "# Proponente: UFJF\n",
    "## Ministrantes: Rodrigo Weber dos Santos (UFJF), Marcelo Lobosco (UFJF) e Bernardo Martins Rocha (UFJF)"
   ]
  },
  {
   "cell_type": "markdown",
   "metadata": {},
   "source": [
    "# Introdução"
   ]
  },
  {
   "cell_type": "markdown",
   "metadata": {},
   "source": [
    "Conteúdo dessa aula:\n",
    "\n",
    "01. Conceitos preliminares (Python, Jupyter-Notebook, Bibliotecas)\n",
    "02. Ajuste de curva\n",
    "03. Modelo matemático de COVID-19\n",
    "04. Simulação dos modelos baseados em EDOs\n",
    "05. Ajuste de parâmetros dos modelos\n",
    "06. Propagação de incertezas\n",
    "07. Análise de sensibilidade"
   ]
  },
  {
   "cell_type": "markdown",
   "metadata": {},
   "source": [
    "## Alguns links importantes\n",
    "\n",
    "- Python: https://www.python.org/\n",
    "- NumPy: https://numpy.org/\n",
    "- Lmfit: https://lmfit.github.io/lmfit-py/\n",
    "- ChaosPy: https://chaospy.readthedocs.io/en/master/\n",
    "- SALib: https://salib.readthedocs.io/en/latest/"
   ]
  },
  {
   "cell_type": "markdown",
   "metadata": {
    "colab_type": "text",
    "id": "zWWq3zgge-R3"
   },
   "source": [
    "# Imports"
   ]
  },
  {
   "cell_type": "code",
   "execution_count": null,
   "metadata": {
    "_cell_guid": "79c7e3d0-c299-4dcb-8224-4455121ee9b0",
    "_uuid": "d629ff2d2480ee46fbb7e2d37f6b5fab8052498a",
    "colab": {
     "base_uri": "https://localhost:8080/",
     "height": 607
    },
    "colab_type": "code",
    "id": "NHHL1iKyYN5-",
    "outputId": "c3af6e28-02ba-4ebf-d5dd-be29f9a68368"
   },
   "outputs": [
    {
     "name": "stdout",
     "output_type": "stream",
     "text": [
      "Defaulting to user installation because normal site-packages is not writeable\n",
      "Requirement already satisfied: mpld3 in /home/rocha/.local/lib/python3.9/site-packages (0.5.2)\n",
      "Requirement already satisfied: jinja2 in /usr/lib/python3.9/site-packages (from mpld3) (3.0.1)\n",
      "Requirement already satisfied: matplotlib in /usr/lib/python3.9/site-packages (from mpld3) (3.4.1)\n",
      "Requirement already satisfied: MarkupSafe>=2.0 in /usr/lib/python3.9/site-packages (from jinja2->mpld3) (2.0.1)\n",
      "Requirement already satisfied: cycler>=0.10 in /usr/lib/python3.9/site-packages (from matplotlib->mpld3) (0.10.0)\n",
      "Requirement already satisfied: kiwisolver>=1.0.1 in /usr/lib/python3.9/site-packages (from matplotlib->mpld3) (1.3.1)\n",
      "Requirement already satisfied: numpy>=1.16 in /usr/lib/python3.9/site-packages (from matplotlib->mpld3) (1.20.3)\n",
      "Requirement already satisfied: pillow>=6.2.0 in /usr/lib/python3.9/site-packages (from matplotlib->mpld3) (8.2.0)\n",
      "Requirement already satisfied: pyparsing>=2.2.1 in /usr/lib/python3.9/site-packages (from matplotlib->mpld3) (2.4.7)\n",
      "Requirement already satisfied: python-dateutil>=2.7 in /usr/lib/python3.9/site-packages (from matplotlib->mpld3) (2.8.1)\n",
      "Requirement already satisfied: six in /usr/lib/python3.9/site-packages (from cycler>=0.10->matplotlib->mpld3) (1.16.0)\n",
      "Requirement already satisfied: six in /usr/lib/python3.9/site-packages (from cycler>=0.10->matplotlib->mpld3) (1.16.0)\n"
     ]
    }
   ],
   "source": [
    "import sys\n",
    "import numpy as np\n",
    "import pandas as pd\n",
    "pd.options.mode.chained_assignment = None  # default='warn'\n",
    "\n",
    "import matplotlib.pyplot as plt\n",
    "import matplotlib.dates as mdates\n",
    "%matplotlib inline \n",
    "!pip install mpld3\n",
    "import mpld3\n",
    "mpld3.enable_notebook()\n",
    "\n",
    "from scipy.integrate import odeint\n",
    "!pip install lmfit\n",
    "import lmfit\n",
    "from lmfit.lineshapes import gaussian, lorentzian\n",
    "!pip install numdifftools\n",
    "\n",
    "# UQ e SA\n",
    "!pip install chaospy\n",
    "!pip install SAlib\n",
    "\n",
    "import warnings\n",
    "warnings.filterwarnings('ignore')"
   ]
  },
  {
   "cell_type": "markdown",
   "metadata": {
    "colab_type": "text",
    "id": "UUG85HqL2QEt"
   },
   "source": [
    "# Exemplo de Ajuste de Curva"
   ]
  },
  {
   "cell_type": "markdown",
   "metadata": {
    "colab_type": "text",
    "id": "smDsijEAjIdn"
   },
   "source": [
    "Considere um exemplo onde se deseja ajustar a seguinte curva (distribuição normal com algum ruído):"
   ]
  },
  {
   "cell_type": "code",
   "execution_count": null,
   "metadata": {
    "colab": {
     "base_uri": "https://localhost:8080/",
     "height": 308
    },
    "colab_type": "code",
    "id": "K94m5zUu8BZi",
    "outputId": "c54d29d9-1938-4af9-f772-ad1096eab9ef"
   },
   "outputs": [],
   "source": [
    "np.random.seed(123)\n",
    "x = np.linspace(0, 20.0, 1001)\n",
    "\n",
    "# dist normal com ruido\n",
    "media = 6.1\n",
    "dp = 1.2\n",
    "data = (gaussian(x, 21, media, dp) + np.random.normal(scale=0.1, size=x.size))  \n",
    "plt.plot(x, data);"
   ]
  },
  {
   "cell_type": "markdown",
   "metadata": {
    "colab_type": "text",
    "id": "pvkRb20PjN_h"
   },
   "source": [
    "Então, definimos uma função que recebe x como primeiro argumento, e os parâmetros a serem ajustados (a, b, c)"
   ]
  },
  {
   "cell_type": "code",
   "execution_count": null,
   "metadata": {
    "colab": {},
    "colab_type": "code",
    "id": "kMjxTRw787xY"
   },
   "outputs": [],
   "source": [
    "def f(x, a, b, c):\n",
    "    return gaussian(x, a, b, c)"
   ]
  },
  {
   "cell_type": "code",
   "execution_count": null,
   "metadata": {
    "colab": {},
    "colab_type": "code",
    "id": "b8w8XOME2Zn7"
   },
   "outputs": [],
   "source": [
    "mod = lmfit.Model(f)\n",
    "\n",
    "# parametros (e algumas aproximacoes iniciais)\n",
    "mod.set_param_hint(\"a\", value=10.0, vary=True)\n",
    "mod.set_param_hint(\"b\", value=10.0, vary=True)\n",
    "mod.set_param_hint(\"c\", value=10.0, vary=True)\n",
    "\n",
    "params = mod.make_params()"
   ]
  },
  {
   "cell_type": "code",
   "execution_count": null,
   "metadata": {
    "colab": {},
    "colab_type": "code",
    "id": "gCcll3Vw2Zom"
   },
   "outputs": [],
   "source": [
    "result = mod.fit(data, params, method=\"leastsq\", x=x)  # fitting"
   ]
  },
  {
   "cell_type": "code",
   "execution_count": null,
   "metadata": {
    "colab": {
     "base_uri": "https://localhost:8080/",
     "height": 324
    },
    "colab_type": "code",
    "id": "DqJyEk1R2Zo9",
    "outputId": "03d0da61-35c4-4dcd-d938-85ffbdc844f5"
   },
   "outputs": [],
   "source": [
    "plt.figure(figsize=(8,4))\n",
    "result.plot_fit(datafmt=\"-\");\n",
    "result.best_values"
   ]
  },
  {
   "cell_type": "code",
   "execution_count": null,
   "metadata": {
    "colab": {
     "base_uri": "https://localhost:8080/",
     "height": 466
    },
    "colab_type": "code",
    "id": "g2KdnIr42ZpM",
    "outputId": "d96e1771-7f84-4ce3-de7d-a5166410d14c"
   },
   "outputs": [],
   "source": [
    "result"
   ]
  },
  {
   "cell_type": "markdown",
   "metadata": {},
   "source": [
    "# Simulação de modelos matemáticos de COVID-19"
   ]
  },
  {
   "cell_type": "markdown",
   "metadata": {},
   "source": [
    "Como visto nas outras aulas, alguns modelos de COVID-19 podem ser descritos como sistemas de equações diferenciais ordinárias (EDOs). O modelo mais simples para transmissão de doenças infecciosas é o modelo chamado SIR (Susceptible, Infectious, Recovered). Vamos apresentar as ideias com base nesse modelo."
   ]
  },
  {
   "cell_type": "markdown",
   "metadata": {},
   "source": [
    "## Modelo SIR (Susceptible, Infectious, or Recovered) "
   ]
  },
  {
   "cell_type": "markdown",
   "metadata": {},
   "source": [
    "$$\n",
    "\\begin{align}\n",
    "\\frac{d S}{d t} &=-\\frac{\\beta I S}{N} \\\\\n",
    "\\frac{d I}{d t} &=\\frac{\\beta I S}{N}-\\gamma I \\\\\n",
    "\\frac{d R}{d t} &=\\gamma I\n",
    "\\end{align}\n",
    "$$\n",
    "\n",
    "onde\n",
    "- $S$: suscetíveis;\n",
    "- $I$: infectados;\n",
    "- $R$: recuperados;\n",
    "- $N$: tamanho da população;\n",
    "- $\\beta$: taxa de transmissão;\n",
    "- $\\gamma$: taxa de recuperação."
   ]
  },
  {
   "cell_type": "markdown",
   "metadata": {},
   "source": [
    "## Simulação do modelo SIR"
   ]
  },
  {
   "cell_type": "code",
   "execution_count": null,
   "metadata": {},
   "outputs": [],
   "source": [
    "import matplotlib.pyplot as plt\n",
    "import numpy as np\n",
    "import scipy.integrate as sig\n",
    "import seaborn as sns\n",
    "from scipy.integrate import odeint\n",
    "#sns.set()\n",
    "\n",
    "def sir(xs, t, ps):\n",
    "    \"\"\"\n",
    "    SIR model\n",
    "    \"\"\"\n",
    "    try:\n",
    "        N = ps['n'].value\n",
    "        beta = ps['beta'].value\n",
    "        gama = ps['gama'].value\n",
    "    except:\n",
    "        N, beta, gama = ps\n",
    "    # equations\n",
    "    S,I,R = xs\n",
    "    dSdt = - beta*S*I/N\n",
    "    dIdt = beta*S*I/N - gama*I\n",
    "    dRdt = gama*I\n",
    "    return np.array([dSdt, dIdt, dRdt])\n",
    "\n",
    "def plot_sir(x, y, labels):\n",
    "    plt.plot(x, y[:,0], lw=2, label=labels[0])\n",
    "    plt.plot(x, y[:,1], lw=2, label=labels[1])\n",
    "    plt.plot(x, y[:,2], lw=2, label=labels[2])\n",
    "    plt.xlabel('tempo')\n",
    "    plt.ylabel('populacao')\n",
    "    plt.legend(loc='best')\n",
    "    plt.show()"
   ]
  },
  {
   "cell_type": "code",
   "execution_count": null,
   "metadata": {},
   "outputs": [],
   "source": [
    "# parametros\n",
    "N = 1000\n",
    "beta = 0.2\n",
    "gama = 0.1\n",
    "params = (N,beta,gama)\n",
    "\n",
    "# condicao inicial\n",
    "i0, r0 = 1, 0\n",
    "s0 = N-i0-r0\n",
    "\n",
    "tf = 150\n",
    "t = np.linspace(0,tf,150)\n",
    "ts = (0, tf)\n",
    "labels = ['suscetivel','infectado','recuperado']\n",
    "\n",
    "# resolve EDOs\n",
    "ic = np.array([s0,i0,r0])\n",
    "X = odeint(sir, ic, t, args=(params,))\n",
    "\n",
    "plot_sir(t, X/N, labels)"
   ]
  },
  {
   "cell_type": "markdown",
   "metadata": {},
   "source": [
    "## Geração de dados sintéticos para exemplo de ajuste do modelo"
   ]
  },
  {
   "cell_type": "code",
   "execution_count": null,
   "metadata": {},
   "outputs": [],
   "source": [
    "def model(t, x0, ps):\n",
    "    \"\"\"\n",
    "    Solution to the ODE x'(t) = f(t,x,k) \n",
    "    with initial condition x(0) = x0\n",
    "    \"\"\"\n",
    "    x = odeint(sir, x0, t, args=(ps,))\n",
    "    return x"
   ]
  },
  {
   "cell_type": "code",
   "execution_count": null,
   "metadata": {},
   "outputs": [],
   "source": [
    "np.set_printoptions(threshold=10)\n",
    "\n",
    "# parametros\n",
    "true_params = np.array((N,beta,gama))\n",
    "\n",
    "# condicao inicial\n",
    "i0, r0 = 1, 0\n",
    "s0 = N-i0-r0\n",
    "ic = (s0,i0,r0)\n",
    "tf = 150\n",
    "t = np.linspace(0,tf,50)\n",
    "\n",
    "# gera dados\n",
    "data = model(t, ic, true_params)\n",
    "print(\"  S\\t\\t I\\t\\t R\")\n",
    "print(data)\n",
    "\n",
    "# adiciona ruido de media=0 e dp=10\n",
    "data += np.random.normal(loc=0.0, scale=10.0, size=data.shape)\n",
    "\n",
    "# plot dos dados\n",
    "plt.plot(t, data[:,0], 'o', label='suscetivel')\n",
    "plt.plot(t, data[:,1], 'v', label='infectado')\n",
    "plt.plot(t, data[:,2], '^', label='recuperado')\n",
    "plt.xlabel('tempo')\n",
    "plt.ylabel('populacao')\n",
    "plt.legend(loc='best')\n",
    "plt.title(\"dados sintéticos\")\n",
    "plt.show()"
   ]
  },
  {
   "cell_type": "markdown",
   "metadata": {},
   "source": [
    "## Ajuste de parâmetros do modelo SIR"
   ]
  },
  {
   "cell_type": "code",
   "execution_count": null,
   "metadata": {},
   "outputs": [],
   "source": [
    "def sir(xs, t, N, ps):\n",
    "    \"\"\"\n",
    "    SIR model\n",
    "    \"\"\"\n",
    "    try:\n",
    "        beta = ps['beta'].value\n",
    "        gama = ps['gama'].value\n",
    "    except:\n",
    "        beta, gama = ps\n",
    "    # equations\n",
    "    S,I,R = xs\n",
    "    dSdt = - beta*S*I/N\n",
    "    dIdt = beta*S*I/N - gama*I\n",
    "    dRdt = gama*I\n",
    "    return np.array([dSdt, dIdt, dRdt])\n",
    "\n",
    "def model(t, x0, N, ps):\n",
    "    \"\"\"\n",
    "    Solution to the ODE x'(t) = f(t,x,k) \n",
    "    with initial condition x(0) = x0\n",
    "    \"\"\"\n",
    "    x = odeint(sir, x0, t, args=(N,ps))\n",
    "    return x\n",
    "\n",
    "def residual(ps, ts, ydata, N, ics):\n",
    "    \"\"\"\n",
    "    Computes residual for NL least squares\n",
    "    \"\"\"\n",
    "    ymodel = model(ts, ics, N, ps)\n",
    "    return (ymodel - ydata).ravel()\n",
    "\n",
    "def residual_i(ps, ts, ydata, N, ics):\n",
    "    \"\"\"\n",
    "    Computes residual for NL least squares - infected only\n",
    "    \"\"\"\n",
    "    ymodel = model(ts, ics, N, ps)\n",
    "    return (ymodel[:,1] - ydata[:,1]) #.ravel()"
   ]
  },
  {
   "cell_type": "markdown",
   "metadata": {},
   "source": [
    "Obs: O que faz essa função ravel() do Python/Numpy?"
   ]
  },
  {
   "cell_type": "code",
   "execution_count": null,
   "metadata": {},
   "outputs": [],
   "source": [
    "xx = np.array([[1, 2, 3], [4, 5, 6]])\n",
    "print(np.shape(xx))\n",
    "np.ravel(xx)"
   ]
  },
  {
   "cell_type": "code",
   "execution_count": null,
   "metadata": {},
   "outputs": [],
   "source": [
    "from lmfit import minimize, Parameters, Parameter, report_fit\n",
    "\n",
    "# =================================================================\n",
    "# Caso 1 - Sintetico\n",
    "# =================================================================\n",
    "\n",
    "# parametros\n",
    "N = 1000\n",
    "beta = 0.2\n",
    "gama = 0.1 \n",
    "true_params = np.array((beta,gama))\n",
    "\n",
    "# condicao inicial\n",
    "i0, r0 = 1, 0\n",
    "s0 = N-i0-r0\n",
    "ic = (s0,i0,r0)\n",
    "\n",
    "# tempo\n",
    "tf = 150\n",
    "t = np.linspace(0,tf,50)\n",
    "\n",
    "# gera dados\n",
    "data = model(t, ic, N, true_params)\n",
    "\n",
    "# adiciona ruido de media=0 e dp=20\n",
    "data += np.random.normal(loc=0.0, scale=10.0, size=data.shape)\n",
    "\n",
    "# =================================================================\n",
    "# Fitting\n",
    "# =================================================================\n",
    "\n",
    "# initial guess\n",
    "params = Parameters()\n",
    "params.add('beta', value=0.5, min=0, max=10)\n",
    "params.add('gama', value=0.5, min=0, max=10)\n",
    "\n",
    "# fitting\n",
    "result = minimize(residual, params, args=(t, data, N, ic), method='leastsq')\n",
    "\n",
    "#result = minimize(residual_i, params, args=(t, data, N, ic), method='leastsq')\n",
    "\n",
    "# display fitted statistics\n",
    "report_fit(result)\n",
    "\n",
    "# plot fitted model\n",
    "labels = ['suscetivel','infectado','recuperado']\n",
    "final = model(t, ic, N, result.params)"
   ]
  },
  {
   "cell_type": "code",
   "execution_count": null,
   "metadata": {},
   "outputs": [],
   "source": [
    "# =================================================================\n",
    "# Resultados\n",
    "# =================================================================\n",
    "\n",
    "#result\n",
    "result.params\n"
   ]
  },
  {
   "cell_type": "code",
   "execution_count": null,
   "metadata": {},
   "outputs": [],
   "source": [
    "# plots\n",
    "plt.plot(t, data[:,0], 'o', label=labels[0] + ' (dados)')\n",
    "plt.plot(t, data[:,1], 'v', label=labels[1] + ' (dados)')\n",
    "plt.plot(t, data[:,2], '^', label=labels[2] + ' (dados)')\n",
    "plt.plot(t, final[:,0], '-', lw=4, label=labels[0] + ' (modelo)')\n",
    "plt.plot(t, final[:,1], '-', lw=4, label=labels[1] + ' (modelo)')\n",
    "plt.plot(t, final[:,2], '-', lw=4, label=labels[2] + ' (modelo)')\n",
    "plt.xlabel('tempo')\n",
    "plt.ylabel('populacao')\n",
    "plt.legend(loc='best')\n",
    "plt.show()"
   ]
  },
  {
   "cell_type": "markdown",
   "metadata": {},
   "source": [
    "## Experimentos com o ajuste"
   ]
  },
  {
   "cell_type": "markdown",
   "metadata": {},
   "source": [
    "- Aumentar o ruído/erro/incerteza nos dados\n",
    "- Variar os valores iniciais dos parâmetros\n",
    "- Variar o método utilizado (LM, DE, etc)\n",
    "- Ajuste de parâmetros do modelo, seguido de previsão pelo modelo\n",
    "- Ajuste de parâmetros do modelo utilizando dados reais (Notebook separado)"
   ]
  },
  {
   "cell_type": "markdown",
   "metadata": {},
   "source": [
    "## Ajuste e previsão"
   ]
  },
  {
   "cell_type": "code",
   "execution_count": null,
   "metadata": {},
   "outputs": [],
   "source": [
    "# =================================================================\n",
    "# Caso 2 - Sintetico - Ajuste + Previsao\n",
    "# =================================================================\n",
    "\n",
    "# parametros\n",
    "N = 1000\n",
    "beta = 0.2\n",
    "gama = 0.1\n",
    "true_params = np.array((beta,gama))\n",
    "\n",
    "# condicao inicial\n",
    "i0, r0 = 1, 0\n",
    "s0 = N-i0-r0\n",
    "ic = (s0,i0,r0)\n",
    "\n",
    "# tempo\n",
    "tf = 40\n",
    "t = np.linspace(0,tf,50)\n",
    "\n",
    "# gera dados\n",
    "data = model(t, ic, N, true_params)\n",
    "\n",
    "# adiciona ruido de media=0 e dp=10\n",
    "data += np.random.normal(loc=0.0, scale=5.0, size=data.shape)\n",
    "\n",
    "# =================================================================\n",
    "# Fitting\n",
    "# =================================================================\n",
    "\n",
    "# initial guess\n",
    "params = Parameters()\n",
    "params.add('beta', value=0.5, min=0, max=10)\n",
    "params.add('gama', value=0.5, min=0, max=10)\n",
    "\n",
    "# fitting\n",
    "result = minimize(residual, params, args=(t, data, N, ic), method='leastsq') #differential_evolution')\n",
    "#result = minimize(residual_i, params, args=(t, data, N, ic), method='leastsq')\n",
    "\n",
    "# display fitted statistics\n",
    "#result\n",
    "result.params"
   ]
  },
  {
   "cell_type": "code",
   "execution_count": null,
   "metadata": {},
   "outputs": [],
   "source": [
    "# previsao ate o tempo tf=100\n",
    "tf = 100\n",
    "tt = np.linspace(0,tf,200)\n",
    "\n",
    "# avalia modelo ajustado\n",
    "final_true = model(tt, ic, N, true_params)\n",
    "\n",
    "# avalia modelo real/true\n",
    "final_forecast = model(tt, ic, N, result.params)\n",
    "\n",
    "# plot data + previsao + modelo real\n",
    "plt.plot(t, data[:,1], 'v', label=labels[1] + ' (dados)')\n",
    "plt.plot(tt, final_forecast[:,1], '-', lw=4, label=labels[1] + ' (modelo)')\n",
    "plt.plot(tt, final_true[:,1], '-', lw=4, label=labels[1] + ' (modelo-true)')\n",
    "plt.xlabel('tempo')\n",
    "plt.ylabel('populacao')\n",
    "plt.legend(loc='best')\n",
    "plt.show()"
   ]
  },
  {
   "cell_type": "markdown",
   "metadata": {},
   "source": [
    "# Propagação de Incertezas"
   ]
  },
  {
   "cell_type": "markdown",
   "metadata": {},
   "source": [
    "Existem vários métodos que podem ser utilizados para realizar a propagação de incertezas dos parâmetros do modelo, porém o método mais simples e utilizado é o método de Monte Carlo (MC). Vamos ilustrar o seu uso nesse contexto de forma prática e simplificada.\n",
    "\n",
    "Vamos considerar, por exemplo, que os parâmetros encontrados no ajuste possuam ambas incertezas de cerva de 5% (+/-). Isso não é necessariamente verdade, mas, para simplificar a apresentação, vamos considerar estes valores. \n",
    "\n",
    "Também iremos supor que os parâmetros sejam governados por distribuições uniformes. Sendo assim, temos:\n",
    "- $\\beta \\sim U(0.19, 0.21)$\n",
    "- $\\gamma \\sim U(0.095, 0.105)$\n",
    "\n",
    "A ideia básica do método de MC é gerar amostras dos parâmetros e simular o modelo (forward model) para cada valor dessas amostras e no final extrair as estatísticas e informações de interesse a partir dos dados gerados.\n",
    "\n",
    "Vamos ver como isso funciona através de um exemplo com o modelo SIR."
   ]
  },
  {
   "cell_type": "code",
   "execution_count": null,
   "metadata": {},
   "outputs": [],
   "source": [
    "import chaospy as cp\n",
    "\n",
    "# parametros\n",
    "N = 1000\n",
    "beta = 0.2\n",
    "gama = 0.1\n",
    "\n",
    "# condicao inicial\n",
    "i0, r0 = 1, 0\n",
    "s0 = N-i0-r0\n",
    "\n",
    "tf = 150\n",
    "size = 500\n",
    "t = np.linspace(0,tf,size)\n",
    "labels = ['suscetivel','infectado','recuperado']\n",
    "\n",
    "# assumindo erro de 5% nos parametros\n",
    "perc_beta = 0.01\n",
    "perc_gama = 0.20\n",
    "\n",
    "# distribuicao dos parametros\n",
    "beta_l = beta - beta * perc_beta\n",
    "beta_r = beta + beta * perc_beta\n",
    "d_beta = cp.Uniform(beta_l, beta_r)\n",
    "\n",
    "gama_l = gama - gama * perc_gama\n",
    "gama_r = gama + gama * perc_gama\n",
    "d_gama = cp.Uniform(gama_l, gama_r)\n",
    "\n",
    "# distribuicao conjunta\n",
    "dist = cp.J(d_beta, d_gama)\n",
    "#print(dist)\n",
    "\n",
    "# numero de amostras\n",
    "nsamples = 100\n",
    "\n",
    "# create vectors to contain the expectations and variances\n",
    "samples = dist.sample(size=nsamples)\n",
    "print(samples.T)\n",
    "print(np.shape(samples.T))"
   ]
  },
  {
   "cell_type": "code",
   "execution_count": null,
   "metadata": {},
   "outputs": [],
   "source": [
    "# solutions\n",
    "sols_s = np.zeros((nsamples, size))\n",
    "sols_i = np.zeros((nsamples, size))\n",
    "sols_r = np.zeros((nsamples, size))\n",
    "# mean values\n",
    "exp_s = np.zeros(size)\n",
    "exp_i = np.zeros(size)\n",
    "exp_r = np.zeros(size)\n",
    "# variance\n",
    "var_s = np.zeros(size)\n",
    "var_i = np.zeros(size)\n",
    "var_r = np.zeros(size)\n",
    "\n",
    "#\n",
    "# Monte Carlo sampling \n",
    "# for each input sample\n",
    "# compute the underlying solution)\n",
    "#\n",
    "for j, sample in enumerate(samples.T):\n",
    "    #print(j,sample)\n",
    "    \n",
    "    # solve for this sample\n",
    "    ic = np.array([s0,i0,r0])\n",
    "    sol = model(t, ic, N, sample)\n",
    "    #plot_sir(t, sol, labels)\n",
    "\n",
    "    # store solution\n",
    "    sols_s[j,:] = sol[:,0]\n",
    "    sols_i[j,:] = sol[:,1]\n",
    "    sols_r[j,:] = sol[:,2]\n",
    "\n",
    "#    \n",
    "# Compute statistics of the outputs at each time\n",
    "#\n",
    "for j in range(size):\n",
    "    ss = sols_s[:,j]\n",
    "    si = sols_i[:,j]\n",
    "    sr = sols_r[:,j]\n",
    "    exp_s[j] = np.mean(ss)\n",
    "    exp_i[j] = np.mean(si)\n",
    "    exp_r[j] = np.mean(sr)    \n",
    "    var_s[j] = np.std(ss)   \n",
    "    var_i[j] = np.std(si)   \n",
    "    var_r[j] = np.std(sr)\n",
    "\n",
    "# plot S\n",
    "plt.plot(t, exp_s, lw=2, color='blue', label='S (mean)')\n",
    "plt.fill_between(t, exp_s+var_s, exp_s-var_s, facecolor='blue', alpha=0.5, label='S (std)')\n",
    "# plot I\n",
    "plt.plot(t, exp_i, lw=2, color='red', label='I (mean)')\n",
    "plt.fill_between(t, exp_i[:]+var_i[:], exp_i[:]-var_i, facecolor='red', alpha=0.5, label='I (std)')\n",
    "# plot R\n",
    "plt.plot(t, exp_r, lw=2, color='green', label='R (mean)')\n",
    "plt.fill_between(t, exp_r+var_r, exp_r-var_r, facecolor='green', alpha=0.5, label='R (std)')\n",
    "# plot settings\n",
    "plt.xlabel(\"tempo\")\n",
    "plt.ylabel(\"numero de individuos\")\n",
    "plt.legend(loc='best')\n",
    "plt.show()"
   ]
  },
  {
   "cell_type": "markdown",
   "metadata": {},
   "source": [
    "# Análise de Sensibilidade"
   ]
  },
  {
   "cell_type": "markdown",
   "metadata": {},
   "source": [
    "Análise de Sensibilidade baseada nos índices de Sobol.\n",
    "\n",
    "O índice de sensibilidade de um parâmetro quantifica o seu impacto na incerteza da saída\n",
    "Medem parte da variância da saída que podem ser atribuídas à variabilidade do parâmetro de entrada.\n",
    "\n",
    "Índice de primeira-ordem (ou principal) e índice total.\n",
    "\n",
    "Índice de Sobol de primeira-ordem $S_i$:\n",
    "\n",
    "\\begin{equation}\n",
    "S_{i}=\\frac{V\\left[E\\left(Y \\mid X_{i}\\right)\\right]}{V(Y)}\n",
    "\\end{equation}\n",
    "\n",
    "Propriedades: $S_i \\in [0,1]$ e $\\sum_{i} S_i \\le 1$.\n",
    "\n",
    "Índice de Sobol total $S_{T_i}$ (mede variações devido a interações de $x_i$ e outros parâmetros): \n",
    "\n",
    "\\begin{equation}\n",
    "S_{T_{i}}=\\frac{E\\left[V\\left(Y \\mid \\mathbf{X}_{\\sim i}\\right)\\right]}{V(Y)}=1-\\frac{V\\left[E\\left(Y \\mid \\mathbf{X}_{\\sim i}\\right)\\right]}{V(Y)}\n",
    "\\end{equation}\n",
    "\n",
    "Veremos a seguir um exemplo de como se calcular estes índices de sensibilidade para o modelo SIR utilizando a biblioteca SAlib.\n",
    "\n",
    "Para simplificar o tratamento, vamos considerar Y como um ponto da curva de S,I ou R."
   ]
  },
  {
   "cell_type": "code",
   "execution_count": null,
   "metadata": {},
   "outputs": [],
   "source": [
    "from SALib.sample import saltelli\n",
    "from SALib.analyze import sobol"
   ]
  },
  {
   "cell_type": "code",
   "execution_count": null,
   "metadata": {},
   "outputs": [],
   "source": [
    "N = 1000\n",
    "problem = {\n",
    "    \"num_vars\": 2,\n",
    "    \"names\": [ \"beta\", \"gama\" ],\n",
    "    \"bounds\": [ [0.19, 0.21], [0.095, 0.105] ]\n",
    "}\n",
    "\n",
    "# gera as amostras de entrada dos parametros\n",
    "param_vals = saltelli.sample(problem, N, calc_second_order=True)\n",
    "print(np.shape(param_vals))\n",
    "print(param_vals)"
   ]
  },
  {
   "cell_type": "markdown",
   "metadata": {},
   "source": [
    "Observe que param_vals é uma matriz do NumPy cuja dimensão é 60000 by 2 para o caso com N=10000. O gerador de amostras de Saltelli gerou 60000 amostras.\n",
    "\n",
    "O gerador de amostras de Saltelli gera N∗(2D+2) amostras, onde N é o número de 10000 é o argumento escolhido (para este exemplo) e D é 2 neste caso (o número de parâmetros de entrada). \n",
    "\n",
    "O argumento calc_second_order=False não irá calcular os índices de segunda ordem de Sobol (índice total), o que faz com que a matriz de amostras tenha apenas N∗(D+2) linhas."
   ]
  },
  {
   "cell_type": "code",
   "execution_count": null,
   "metadata": {},
   "outputs": [],
   "source": [
    "# array para armazenar uma quantidade de interesse\n",
    "# a ser avaliada pela analise de sensibilidade\n",
    "Ns = param_vals.shape[0]\n",
    "Y = np.empty([Ns])\n",
    "print(np.shape(Y))"
   ]
  },
  {
   "cell_type": "code",
   "execution_count": null,
   "metadata": {},
   "outputs": [],
   "source": [
    "# configuracao do problema SIR\n",
    "# parametros\n",
    "Np = 1000\n",
    "\n",
    "# condicao inicial\n",
    "i0, r0 = 1, 0\n",
    "s0 = Np-i0-r0\n",
    "\n",
    "# tempo\n",
    "tf = 150\n",
    "size = 150\n",
    "t = np.linspace(0,tf,size)\n",
    "\n",
    "# avalia o modelo (SIR) para cada parâmetro de entrada\n",
    "for i in range(Ns):\n",
    "    x = param_vals[i]\n",
    "    \n",
    "    #print(f\"amostra {i}: \", x)\n",
    "    \n",
    "    # resolve o problema SIR\n",
    "    ic = np.array([s0,i0,r0])\n",
    "    sol = model(t, ic, Np, x)\n",
    "    \n",
    "    # sol é uma matriz (npassos x 3)\n",
    "    # 0-> suscetivel\n",
    "    # 1-> infectado\n",
    "    # 2-> recuperado\n",
    "    \n",
    "    # extrai a quantidade de interesse definida\n",
    "    \n",
    "    # num infectados no tempo t=60\n",
    "    Y[i] = sol[60, 1]\n",
    "    \n",
    "    # num de recuperados no tempo t=60\n",
    "    #Y[i] = sol[60, 2]\n",
    "    \n",
    "# fim do loop   \n",
    "\n",
    "print(\"Amostras calculadas com sucesso\")"
   ]
  },
  {
   "cell_type": "code",
   "execution_count": null,
   "metadata": {},
   "outputs": [],
   "source": [
    "print(\"Calculando indices de Sobol\\n\")\n",
    "\n",
    "# estimate the sensitivity indices using Sobol's method\n",
    "sensitivity = sobol.analyze(problem, Y, calc_second_order=True)\n",
    "\n",
    "# firstorder indices\n",
    "print(\"Indice de Sobol princial or de primeira ordem\")\n",
    "print(sensitivity['S1'])\n",
    "print()\n",
    "\n",
    "# higher-order indices\n",
    "print(\"Indice de Sobol total ou de alta ordem\")\n",
    "print(sensitivity['ST'])"
   ]
  },
  {
   "cell_type": "markdown",
   "metadata": {},
   "source": [
    "## Cálculo dos índices de Sobol para todos instantes de tempo"
   ]
  },
  {
   "cell_type": "code",
   "execution_count": null,
   "metadata": {},
   "outputs": [],
   "source": [
    "# array para armazenar uma quantidade de interesse\n",
    "# a ser avaliada pela analise de sensibilidade\n",
    "Ns = param_vals.shape[0]\n",
    "Ys = np.empty([Ns,size])\n",
    "Yi = np.empty([Ns,size])\n",
    "Yr = np.empty([Ns,size])\n",
    "\n",
    "# avalia o modelo (SIR) para cada parâmetro de entrada\n",
    "for i in range(Ns):\n",
    "    x = param_vals[i]\n",
    "    \n",
    "    print(f\"amostra {i}: \", x)\n",
    "    \n",
    "    # resolve o problema SIR\n",
    "    ic = np.array([s0,i0,r0])\n",
    "    sol = model(t, ic, Np, x)\n",
    "    \n",
    "    # sol é uma matriz (npassos x 3)\n",
    "    # 0-> suscetivel\n",
    "    # 1-> infectado\n",
    "    # 2-> recuperado\n",
    "    \n",
    "    # extrai a quantidade de interesse definida\n",
    "    Ys[i,:] = sol[:,0]\n",
    "    Yi[i,:] = sol[:,1]\n",
    "    Yr[i,:] = sol[:,2]    \n",
    "    \n",
    "# fim do loop   \n",
    "\n",
    "print(\"Amostras calculadas com sucesso\")"
   ]
  },
  {
   "cell_type": "code",
   "execution_count": null,
   "metadata": {},
   "outputs": [],
   "source": [
    "print(\"Calculando indices de Sobol\\n\")\n",
    "\n",
    "Ss = np.empty([2,size])\n",
    "Si = np.empty([2,size])\n",
    "Sr = np.empty([2,size])\n",
    "\n",
    "for j in range(size):\n",
    "   \n",
    "    # estimate the sensitivity indices using Sobol's method\n",
    "    sens_s = sobol.analyze(problem, Ys[:,j], calc_second_order=True)\n",
    "    sens_i = sobol.analyze(problem, Yi[:,j], calc_second_order=True)\n",
    "    sens_r = sobol.analyze(problem, Yr[:,j], calc_second_order=True)\n",
    "\n",
    "    Ss[:,j] = sens_s['S1']\n",
    "    Si[:,j] = sens_i['S1']\n",
    "    Sr[:,j] = sens_r['S1']\n",
    "    #print(j)\n",
    "\n",
    "print(\"OK\")\n",
    "\n",
    "# plot sobol indices for Infectados\n",
    "plt.plot(t, Si[0,:], lw=2, color='blue', label='beta - Sobol main')\n",
    "plt.plot(t, Si[1,:], lw=2, color='red', label='gama - Sobol main')\n",
    "\n",
    "# plot settings\n",
    "plt.xlabel(\"tempo\")\n",
    "plt.ylabel(\"indice de Sobol\")\n",
    "plt.legend(loc='best')\n",
    "plt.show()"
   ]
  },
  {
   "cell_type": "markdown",
   "metadata": {},
   "source": [
    "# Algumas observações\n",
    "\n",
    "- Tanto na propagação de incertezas (UQ direta) quanto na análise de sensibilidade (SA) foi preciso escolher um intervalo para os parâmetros de entrada.\n",
    "\n",
    "- Aqui nessa aula, essa escolha foi feita de forma simplificada.\n",
    "\n",
    "- O ideal é obter essas informações após o ajuste dos parâmetros (lmfit fornece algumas estimativas).\n",
    "\n",
    "- Uma abordagem mais apropriada é utilizar métodos de quantificação de incertezas inversa (UQ inversa), a qual fornece uma distribuição de probabilidade para cada parâmetro. Quanto maior a dispersão dessa distribuição para um determinado parâmetro, maior a incerteza deste parâmetro. Ex: Markov-Chain Monte-Carlo."
   ]
  },
  {
   "cell_type": "markdown",
   "metadata": {},
   "source": [
    "# Contatos"
   ]
  },
  {
   "cell_type": "markdown",
   "metadata": {},
   "source": [
    "Email\n",
    "- bernardomartinsrocha@ice.ufjf.br\n",
    "\n",
    "Repositório no GitHub:\n",
    "- https://github.com/rochabm/curso_sbpc_2021"
   ]
  },
  {
   "cell_type": "markdown",
   "metadata": {},
   "source": [
    "# Referências"
   ]
  },
  {
   "cell_type": "markdown",
   "metadata": {},
   "source": [
    "- Livro \"An Introduction to Infectious Disease Modelling\". Autores: Emilia Vynnycky, Richard White\n",
    "- Livro \"Uncertainty Quantification and Predictive Computational Science: A Foundation for Physical Scientists and Engineers\". Autor: Ryan G. McClarren\n",
    "- Livro \"Global Sensitivity Analysis. The Primer - Andrea Saltelli\" (Obs: disponível para download no site do autor)\n",
    "- Site \"Towards Data Science\"\n",
    "- https://towardsdatascience.com/infectious-disease-modelling-fit-your-model-to-coronavirus-data-2568e672dbc7\n",
    "- https://medium.com/analytics-vidhya/coronavirus-in-italy-ode-model-an-parameter-optimization-forecast-with-python-c1769cf7a511"
   ]
  }
 ],
 "metadata": {
  "colab": {
   "collapsed_sections": [
    "UUG85HqL2QEt",
    "ZuuEGEUpiHEX"
   ],
   "name": "part_three.ipynb",
   "provenance": []
  },
  "kernelspec": {
   "display_name": "Python 3",
   "language": "python",
   "name": "python3"
  },
  "language_info": {
   "codemirror_mode": {
    "name": "ipython",
    "version": 3
   },
   "file_extension": ".py",
   "mimetype": "text/x-python",
   "name": "python",
   "nbconvert_exporter": "python",
   "pygments_lexer": "ipython3",
   "version": "3.9.5"
  }
 },
 "nbformat": 4,
 "nbformat_minor": 4
}
